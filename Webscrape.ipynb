{
  "cells": [
    {
      "cell_type": "code",
      "execution_count": 1,
      "metadata": {},
      "outputs": [],
      "source": [
        "#Basic \n",
        "import pandas as pd\n",
        "import regex as re\n",
        "import time\n",
        "import requests\n",
        "\n",
        "#For webscrape\n",
        "from bs4 import BeautifulSoup\n",
        "#from selenium import *\n",
        "from selenium import webdriver\n",
        "from selenium.webdriver.common.by import By\n",
        "from selenium.webdriver.support.ui import WebDriverWait\n",
        "from selenium.webdriver.support import expected_conditions as EC"
      ]
    },
    {
      "cell_type": "code",
      "execution_count": 2,
      "metadata": {},
      "outputs": [],
      "source": [
        "#Base url to get all the storkreds and valgkreds\n",
        "URL = \"https://www.dr.dk/nyheder/politik/folketingsvalg/din-stemmeseddel\"\n",
        "r = requests.get(URL)\n",
        "soup = BeautifulSoup(r.content, \"html.parser\")"
      ]
    },
    {
      "cell_type": "code",
      "execution_count": 3,
      "metadata": {
        "id": "qB9CPCVOMoQx"
      },
      "outputs": [],
      "source": [
        "#Get links to each valgkreds\n",
        "linksToKredse = {} #Key = link, value = [storkreds, valgkreds]\n",
        "for storkreds in soup.find_all(class_=\"AccordionGrid_container___2Vv3\"):\n",
        "    storkredsDiv = storkreds.find('div') \n",
        "    storkredsName = storkredsDiv.get('id')\n",
        "    for valgkreds in storkredsDiv.find_all(class_=\"AccordionGrid_cellWrapper__sGlRr\"):\n",
        "        valgkredsName = valgkreds.find('a')['aria-label']\n",
        "        link = valgkreds.find('a')['href']\n",
        "        linksToKredse['https://www.dr.dk'+link] = [storkredsName[10:], valgkredsName[:-20]]"
      ]
    },
    {
      "cell_type": "code",
      "execution_count": 4,
      "metadata": {},
      "outputs": [],
      "source": [
        "def valgkreds(dic):\n",
        "  \"\"\"\n",
        "  Returns list dicts of all the links for each of the candidates\n",
        "  in each of the valgkredse\n",
        "  \"\"\"\n",
        "  listOfValgkredse = []\n",
        "\n",
        "  for key, value in dic.items():\n",
        "    valgkreds = {}\n",
        "    URL = key\n",
        "    r = requests.get(URL)\n",
        "    soup = BeautifulSoup(r.content, \"html.parser\")\n",
        "    time.sleep(2)\n",
        "    for parti in soup.find_all(class_=\"AccordionGrid_container___2Vv3\"): #All parti containers\n",
        "        partiName = parti.find('div')['aria-labelledby'][17:]\n",
        "        for candidate in parti.find_all(class_=\"AccordionGrid_cellWrapper__sGlRr\"): #All candidate containers\n",
        "            candidateName = candidate.find('a')['aria-label'][:-22]\n",
        "            candidateLink = 'https://www.dr.dk'+ candidate.find('a')['href']\n",
        "            valgkreds[candidateLink] = [value[0], value[1] ,partiName, candidateName]\n",
        "    listOfValgkredse.append(valgkreds)\n",
        "  return listOfValgkredse"
      ]
    },
    {
      "cell_type": "code",
      "execution_count": 5,
      "metadata": {},
      "outputs": [],
      "source": [
        "l = valgkreds(linksToKredse)"
      ]
    },
    {
      "cell_type": "code",
      "execution_count": 6,
      "metadata": {},
      "outputs": [],
      "source": [
        "#Create an empty dataframe with each valgkreds\n",
        "df = pd.DataFrame()\n",
        "\n",
        "for i in l:\n",
        "    temp = pd.DataFrame.from_dict(i, orient='index', columns = ['Storkreds', 'Valgkreds', 'Parti', 'Kandidat'])\n",
        "    df = pd.concat([df, temp])\n",
        "df.to_csv('data/Valgkredse.csv')"
      ]
    },
    {
      "cell_type": "code",
      "execution_count": 7,
      "metadata": {},
      "outputs": [],
      "source": [
        "#Get dict of all candidate\n",
        "\n",
        "kandidates = {} #Key = link, value = storkreds, parti, navn\n",
        "\n",
        "storkreds = df['Storkreds'].to_list()\n",
        "parti = df['Parti'].to_list()\n",
        "name = df['Kandidat'].to_list()\n",
        "link = df.index.to_list()\n",
        "\n",
        "for i in range(len(storkreds)):\n",
        "    kandidates[link[i]] = [storkreds[i], parti[i], name[i]]"
      ]
    },
    {
      "cell_type": "code",
      "execution_count": 8,
      "metadata": {
        "id": "dLo9IoHajti-"
      },
      "outputs": [],
      "source": [
        "first = True\n",
        "def find_answers_for_candidate(c_url, driver):\n",
        "    \"\"\"Given the link for a candidate return all of the candidate's answers\"\"\"\n",
        "    global first\n",
        "    # built in delay so that we aren't being evil.\n",
        "    driver.get(c_url)\n",
        "    if first == True:\n",
        "        #click no to cookies\n",
        "        noCook = driver.find_element(By.XPATH, \"/html/body/div[1]/div/div/div/div/div/div/div/div/div/div/div[3]/div/div[1]/button\")\n",
        "        noCook.click()\n",
        "        first = False\n",
        "    # click show more button\n",
        "    while True:\n",
        "        try:\n",
        "            # Wait for the button to be clickable\n",
        "            wait = WebDriverWait(driver, 5)\n",
        "            button = wait.until(EC.element_to_be_clickable((By.CSS_SELECTOR, \".CandidateAnswers_expandButton__FLs7A button.dre-button.dre-button--secondary\")))\n",
        "            # Click the button\n",
        "            button.click()\n",
        "        except:\n",
        "            break\n",
        "    source = driver.page_source\n",
        "    soup = BeautifulSoup(source, 'lxml')\n",
        "    q = soup.find_all(class_='Answer_candidateFirstName__XTbqP')\n",
        "    return [re.search(r\"svaret:([a-zA-Z ]*)\", x[\"aria-label\"]).group(1).strip() for x in q]\n"
      ]
    },
    {
      "cell_type": "code",
      "execution_count": 9,
      "metadata": {},
      "outputs": [],
      "source": [
        "#Get all the answers of all the candidates\n",
        "\n",
        "driver = webdriver.Chrome()\n",
        "for key, value in kandidates.items():\n",
        "    x = find_answers_for_candidate(key,driver)\n",
        "    kandidates[key].extend(x)"
      ]
    },
    {
      "cell_type": "code",
      "execution_count": null,
      "metadata": {},
      "outputs": [
        {
          "name": "stdout",
          "output_type": "stream",
          "text": [
            "110\n"
          ]
        }
      ],
      "source": [
        "#Check how many candidates' answers are unavailable\n",
        "unavailable = 0\n",
        "for key, value in kandidates.items():\n",
        "    if len(value) == 3:\n",
        "        unavailable += 1\n",
        "print(unavailable)"
      ]
    },
    {
      "cell_type": "code",
      "execution_count": 13,
      "metadata": {},
      "outputs": [],
      "source": [
        "columns = [\"Storkreds\", \"Party\", \"Name\"]\n",
        "\n",
        "for i in range(25):\n",
        "    columns.append(\"Q\"+str(i+1))\n",
        "\n",
        "vaaData = pd.DataFrame.from_dict(kandidates, orient='index', columns=columns)\n",
        "vaaData.to_csv(\"data/VAA.csv\")"
      ]
    }
  ],
  "metadata": {
    "colab": {
      "provenance": []
    },
    "interpreter": {
      "hash": "40d3a090f54c6569ab1632332b64b2c03c39dcf918b08424e98f38b5ae0af88f"
    },
    "kernelspec": {
      "display_name": "Python 3.9.7 ('base')",
      "language": "python",
      "name": "python3"
    },
    "language_info": {
      "codemirror_mode": {
        "name": "ipython",
        "version": 3
      },
      "file_extension": ".py",
      "mimetype": "text/x-python",
      "name": "python",
      "nbconvert_exporter": "python",
      "pygments_lexer": "ipython3",
      "version": "3.9.7"
    },
    "orig_nbformat": 4
  },
  "nbformat": 4,
  "nbformat_minor": 0
}
